{
 "cells": [
  {
   "cell_type": "markdown",
   "metadata": {},
   "source": [
    "## Ancho de Cadena ##\n",
    "\n",
    "Dada una cadena y un ancho. Tienes la tarea de convertir la cadena en un texto que tenga el ancho dado. Garantizamos que este ancho será siempre positivo y menor al tamaño de la cadena. \n",
    "\n",
    "**Ejemplo de entrada**\n",
    "\n",
    "    ABCDEFGHIJKLIMNOQRSTUVWXYZ\n",
    "\n",
    "    4\n",
    "\n",
    "**Ejemplo de salida**\n",
    "\n",
    "    ABCD\n",
    "    EFGH\n",
    "    IJKL\n",
    "    IMNO\n",
    "    QRST\n",
    "    UVWX\n",
    "    YZ"
   ]
  },
  {
   "cell_type": "code",
   "execution_count": null,
   "metadata": {},
   "outputs": [],
   "source": [
    "cadena = input()\n",
    "ancho = int(input())\n",
    "large = len(cadena)\n",
    "res= \"\"\n",
    "for i in range((large//ancho)+1):\n",
    "    if large//ancho >= 1:\n",
    "        res+=cadena[(i*ancho):((i*ancho)+ancho)]+'\\n'\n",
    "        large -=ancho\n",
    "    else:\n",
    "        res+=cadena[(i*ancho):len(cadena)]+'\\n'\n",
    "print(res)\n",
    "print(2//4)"
   ]
  },
  {
   "cell_type": "code",
   "execution_count": null,
   "metadata": {},
   "outputs": [],
   "source": []
  }
 ],
 "metadata": {
  "kernelspec": {
   "display_name": "Python 3",
   "language": "python",
   "name": "python3"
  },
  "language_info": {
   "codemirror_mode": {
    "name": "ipython",
    "version": 3
   },
   "file_extension": ".py",
   "mimetype": "text/x-python",
   "name": "python",
   "nbconvert_exporter": "python",
   "pygments_lexer": "ipython3",
   "version": "3.7.2"
  }
 },
 "nbformat": 4,
 "nbformat_minor": 2
}
